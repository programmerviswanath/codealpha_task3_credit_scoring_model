{
 "cells": [
  {
   "cell_type": "markdown",
   "id": "18decc13-d6f2-4491-ae9a-30f443fa17ae",
   "metadata": {},
   "source": [
    "# TASK-3 : CREDIT SCORING MODEL"
   ]
  },
  {
   "cell_type": "markdown",
   "id": "2b793481-271a-4494-8528-e285c2f49c88",
   "metadata": {},
   "source": [
    "## Import Libraries"
   ]
  },
  {
   "cell_type": "code",
   "execution_count": 1,
   "id": "7f5a20d9-df4c-4f3d-95a2-cdd7781c1b1e",
   "metadata": {},
   "outputs": [],
   "source": [
    "import pandas as pd\n",
    "import numpy as np\n",
    "import matplotlib.pyplot as plt"
   ]
  },
  {
   "cell_type": "markdown",
   "id": "98c7ac6f-6c2a-4ee2-b412-e64d0a93473c",
   "metadata": {},
   "source": [
    "## Load Dataset"
   ]
  },
  {
   "cell_type": "code",
   "execution_count": 2,
   "id": "8d50e12a-d01a-4571-8b3c-1fc7f42e5257",
   "metadata": {},
   "outputs": [
    {
     "name": "stdout",
     "output_type": "stream",
     "text": [
      "   ID  Income   Debt  Payment_History  Age Credit_Score\n",
      "0   1   40000  10000                1   25         Good\n",
      "1   2   25000   8000                0   22          Bad\n",
      "2   3   60000  15000                1   35         Good\n",
      "3   4   30000  12000                0   28          Bad\n",
      "4   5   75000  20000                1   40         Good\n"
     ]
    }
   ],
   "source": [
    "data = pd.read_excel(\"credit_data.xlsx\")\n",
    "print(data.head())"
   ]
  },
  {
   "cell_type": "markdown",
   "id": "15827d51-e478-43cf-905f-5cb95d4563a6",
   "metadata": {},
   "source": [
    "## Data Summary"
   ]
  },
  {
   "cell_type": "code",
   "execution_count": 4,
   "id": "f26fda5b-57a1-4b71-8582-9648927c870e",
   "metadata": {},
   "outputs": [
    {
     "name": "stdout",
     "output_type": "stream",
     "text": [
      "              ID        Income          Debt  Payment_History        Age\n",
      "count  25.000000     25.000000     25.000000        25.000000  25.000000\n",
      "mean   13.000000  49920.000000  15240.000000         0.520000  31.880000\n",
      "std     7.359801  22274.649268   6728.546153         0.509902   8.992219\n",
      "min     1.000000  25000.000000   5000.000000         0.000000  21.000000\n",
      "25%     7.000000  30000.000000  10000.000000         0.000000  25.000000\n",
      "50%    13.000000  45000.000000  15000.000000         1.000000  28.000000\n",
      "75%    19.000000  70000.000000  20000.000000         1.000000  39.000000\n",
      "max    25.000000  90000.000000  30000.000000         1.000000  50.000000\n",
      "\n",
      "Credit Score Distribution:\n",
      " Credit_Score\n",
      "Good    13\n",
      "Bad     12\n",
      "Name: count, dtype: int64\n"
     ]
    }
   ],
   "source": [
    "print(data.describe())\n",
    "print(\"\\nCredit Score Distribution:\\n\", data['Credit_Score'].value_counts())"
   ]
  },
  {
   "cell_type": "markdown",
   "id": "e3cafe06-1c9b-4140-ac9f-95073a476f08",
   "metadata": {},
   "source": [
    "## Rule-Based Model (Simulating Credit Scoring)"
   ]
  },
  {
   "cell_type": "code",
   "execution_count": 5,
   "id": "f3f72eaf-1b08-46e4-a324-f31eacb44ae1",
   "metadata": {},
   "outputs": [
    {
     "name": "stdout",
     "output_type": "stream",
     "text": [
      "   Income   Debt  Payment_History Credit_Score Predicted\n",
      "0   40000  10000                1         Good      Good\n",
      "1   25000   8000                0          Bad       Bad\n",
      "2   60000  15000                1         Good      Good\n",
      "3   30000  12000                0          Bad       Bad\n",
      "4   75000  20000                1         Good      Good\n",
      "5   28000   5000                0          Bad       Bad\n",
      "6   50000  12000                1         Good      Good\n",
      "7   45000  20000                0          Bad       Bad\n",
      "8   80000  25000                1         Good      Good\n",
      "9   32000  15000                0          Bad       Bad\n"
     ]
    }
   ],
   "source": [
    "def predict_credit(row):\n",
    "    score = 0\n",
    "    if row['Income'] > 50000:\n",
    "        score += 1\n",
    "    if row['Debt'] < 15000:\n",
    "        score += 1\n",
    "    if row['Payment_History'] == 1:\n",
    "        score += 1\n",
    "    return \"Good\" if score >= 2 else \"Bad\"\n",
    "data['Predicted'] = data.apply(predict_credit, axis=1)\n",
    "print(data[['Income', 'Debt', 'Payment_History', 'Credit_Score', 'Predicted']].head(10))"
   ]
  },
  {
   "cell_type": "markdown",
   "id": "7131e698-bbb4-4571-b823-7ff6b12bdf84",
   "metadata": {},
   "source": [
    "## Accuracy Check"
   ]
  },
  {
   "cell_type": "code",
   "execution_count": 6,
   "id": "3a984241-93bb-4ad3-8f61-01d8acf922c0",
   "metadata": {},
   "outputs": [
    {
     "name": "stdout",
     "output_type": "stream",
     "text": [
      "Model Accuracy: 1.0\n"
     ]
    }
   ],
   "source": [
    "accuracy = np.mean(data['Credit_Score'] == data['Predicted'])\n",
    "print(\"Model Accuracy:\", accuracy)"
   ]
  },
  {
   "cell_type": "markdown",
   "id": "408c5795-8bb4-44c8-a08f-adc4aa15cb82",
   "metadata": {},
   "source": [
    "## Visualization"
   ]
  },
  {
   "cell_type": "code",
   "execution_count": 7,
   "id": "899a6053-caef-4dee-81ed-60ed61f860ee",
   "metadata": {},
   "outputs": [
    {
     "data": {
      "image/png": "[encoded data removed]",
      "text/plain": [
       "<Figure size 800x500 with 1 Axes>"
      ]
     },
     "metadata": {},
     "output_type": "display_data"
    }
   ],
   "source": [
    "# Actual vs Predicted count plot\n",
    "counts = data[['Credit_Score','Predicted']].value_counts().unstack()\n",
    "counts.plot(kind='bar', figsize=(8,5))\n",
    "plt.title(\"Actual vs Predicted Credit Score\")\n",
    "plt.xlabel(\"Credit Score (Actual)\")\n",
    "plt.ylabel(\"Count\")\n",
    "plt.show()"
   ]
  },
  {
   "cell_type": "code",
   "execution_count": null,
   "id": "a74f31f0-2bb6-41a2-b369-ab76511f2dfd",
   "metadata": {},
   "outputs": [],
   "source": []
  }
 ],
 "metadata": {
  "kernelspec": {
   "display_name": "Python 3 (ipykernel)",
   "language": "python",
   "name": "python3"
  },
  "language_info": {
   "codemirror_mode": {
    "name": "ipython",
    "version": 3
   },
   "file_extension": ".py",
   "mimetype": "text/x-python",
   "name": "python",
   "nbconvert_exporter": "python",
   "pygments_lexer": "ipython3",
   "version": "3.9.2"
  }
 },
 "nbformat": 4,
 "nbformat_minor": 5
}
