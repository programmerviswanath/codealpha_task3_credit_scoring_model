{
 "cells": [
  {
   "cell_type": "markdown",
   "id": "4ec52186-1af6-4960-9933-55fff5ffb557",
   "metadata": {},
   "source": [
    "# TASK 2: Disease Prediction from Medical Data"
   ]
  },
  {
   "cell_type": "markdown",
   "id": "e87eddd7-449b-47be-a203-3703183ab273",
   "metadata": {},
   "source": [
    "## Import Libraries"
   ]
  },
  {
   "cell_type": "code",
   "execution_count": 9,
   "id": "4a3b8ca3-dc22-4402-a278-cc8eaf81c264",
   "metadata": {},
   "outputs": [],
   "source": [
    "import pandas as pd\n",
    "import numpy as np\n",
    "import matplotlib.pyplot as plt"
   ]
  },
  {
   "cell_type": "markdown",
   "id": "6633e697-4813-4efe-ace0-a48d9b4a98a8",
   "metadata": {},
   "source": [
    "## Load the Dataset"
   ]
  },
  {
   "cell_type": "code",
   "execution_count": 3,
   "id": "aa4b09fa-db22-4b5a-a0b5-1b5d1dfeb390",
   "metadata": {},
   "outputs": [
    {
     "data": {
      "text/html": [
       "<div>\n",
       "<style scoped>\n",
       "    .dataframe tbody tr th:only-of-type {\n",
       "        vertical-align: middle;\n",
       "    }\n",
       "\n",
       "    .dataframe tbody tr th {\n",
       "        vertical-align: top;\n",
       "    }\n",
       "\n",
       "    .dataframe thead th {\n",
       "        text-align: right;\n",
       "    }\n",
       "</style>\n",
       "<table border=\"1\" class=\"dataframe\">\n",
       "  <thead>\n",
       "    <tr style=\"text-align: right;\">\n",
       "      <th></th>\n",
       "      <th>age</th>\n",
       "      <th>sex</th>\n",
       "      <th>cp</th>\n",
       "      <th>trestbps</th>\n",
       "      <th>chol</th>\n",
       "      <th>fbs</th>\n",
       "      <th>restecg</th>\n",
       "      <th>thalach</th>\n",
       "      <th>exang</th>\n",
       "      <th>target</th>\n",
       "    </tr>\n",
       "  </thead>\n",
       "  <tbody>\n",
       "    <tr>\n",
       "      <th>0</th>\n",
       "      <td>63</td>\n",
       "      <td>1</td>\n",
       "      <td>3</td>\n",
       "      <td>145</td>\n",
       "      <td>233</td>\n",
       "      <td>1</td>\n",
       "      <td>0</td>\n",
       "      <td>150</td>\n",
       "      <td>0</td>\n",
       "      <td>1</td>\n",
       "    </tr>\n",
       "    <tr>\n",
       "      <th>1</th>\n",
       "      <td>37</td>\n",
       "      <td>1</td>\n",
       "      <td>2</td>\n",
       "      <td>130</td>\n",
       "      <td>250</td>\n",
       "      <td>0</td>\n",
       "      <td>1</td>\n",
       "      <td>187</td>\n",
       "      <td>0</td>\n",
       "      <td>1</td>\n",
       "    </tr>\n",
       "    <tr>\n",
       "      <th>2</th>\n",
       "      <td>41</td>\n",
       "      <td>0</td>\n",
       "      <td>1</td>\n",
       "      <td>130</td>\n",
       "      <td>204</td>\n",
       "      <td>0</td>\n",
       "      <td>0</td>\n",
       "      <td>172</td>\n",
       "      <td>0</td>\n",
       "      <td>1</td>\n",
       "    </tr>\n",
       "    <tr>\n",
       "      <th>3</th>\n",
       "      <td>56</td>\n",
       "      <td>1</td>\n",
       "      <td>1</td>\n",
       "      <td>120</td>\n",
       "      <td>236</td>\n",
       "      <td>0</td>\n",
       "      <td>1</td>\n",
       "      <td>178</td>\n",
       "      <td>0</td>\n",
       "      <td>1</td>\n",
       "    </tr>\n",
       "    <tr>\n",
       "      <th>4</th>\n",
       "      <td>57</td>\n",
       "      <td>0</td>\n",
       "      <td>0</td>\n",
       "      <td>120</td>\n",
       "      <td>354</td>\n",
       "      <td>0</td>\n",
       "      <td>1</td>\n",
       "      <td>163</td>\n",
       "      <td>1</td>\n",
       "      <td>1</td>\n",
       "    </tr>\n",
       "  </tbody>\n",
       "</table>\n",
       "</div>"
      ],
      "text/plain": [
       "   age  sex  cp  trestbps  chol  fbs  restecg  thalach  exang  target\n",
       "0   63    1   3       145   233    1        0      150      0       1\n",
       "1   37    1   2       130   250    0        1      187      0       1\n",
       "2   41    0   1       130   204    0        0      172      0       1\n",
       "3   56    1   1       120   236    0        1      178      0       1\n",
       "4   57    0   0       120   354    0        1      163      1       1"
      ]
     },
     "execution_count": 3,
     "metadata": {},
     "output_type": "execute_result"
    }
   ],
   "source": [
    "df = pd.read_excel(\"heart_data.xlsx\")\n",
    "df.head()"
   ]
  },
  {
   "cell_type": "markdown",
   "id": "2634add2-b290-434c-bb7e-eb5c1666be53",
   "metadata": {},
   "source": [
    "## Basic Info and Null Check"
   ]
  },
  {
   "cell_type": "code",
   "execution_count": 4,
   "id": "2e0b3da3-a56f-4253-8780-dd0ffb7ebc03",
   "metadata": {},
   "outputs": [
    {
     "name": "stdout",
     "output_type": "stream",
     "text": [
      "<class 'pandas.core.frame.DataFrame'>\n",
      "RangeIndex: 25 entries, 0 to 24\n",
      "Data columns (total 10 columns):\n",
      " #   Column    Non-Null Count  Dtype\n",
      "---  ------    --------------  -----\n",
      " 0   age       25 non-null     int64\n",
      " 1   sex       25 non-null     int64\n",
      " 2   cp        25 non-null     int64\n",
      " 3   trestbps  25 non-null     int64\n",
      " 4   chol      25 non-null     int64\n",
      " 5   fbs       25 non-null     int64\n",
      " 6   restecg   25 non-null     int64\n",
      " 7   thalach   25 non-null     int64\n",
      " 8   exang     25 non-null     int64\n",
      " 9   target    25 non-null     int64\n",
      "dtypes: int64(10)\n",
      "memory usage: 2.1 KB\n",
      "\n",
      "Missing values:\n",
      " age         0\n",
      "sex         0\n",
      "cp          0\n",
      "trestbps    0\n",
      "chol        0\n",
      "fbs         0\n",
      "restecg     0\n",
      "thalach     0\n",
      "exang       0\n",
      "target      0\n",
      "dtype: int64\n"
     ]
    }
   ],
   "source": [
    "# Dataset info\n",
    "df.info()\n",
    "print(\"\\nMissing values:\\n\", df.isnull().sum())"
   ]
  },
  {
   "cell_type": "markdown",
   "id": "d7734509-2bfd-43f9-a280-f844a0627d4f",
   "metadata": {},
   "source": [
    "## Summary Statistics"
   ]
  },
  {
   "cell_type": "code",
   "execution_count": 5,
   "id": "9c80560b-e87b-43ae-b380-d87178f2ddb8",
   "metadata": {},
   "outputs": [
    {
     "data": {
      "text/html": [
       "<div>\n",
       "<style scoped>\n",
       "    .dataframe tbody tr th:only-of-type {\n",
       "        vertical-align: middle;\n",
       "    }\n",
       "\n",
       "    .dataframe tbody tr th {\n",
       "        vertical-align: top;\n",
       "    }\n",
       "\n",
       "    .dataframe thead th {\n",
       "        text-align: right;\n",
       "    }\n",
       "</style>\n",
       "<table border=\"1\" class=\"dataframe\">\n",
       "  <thead>\n",
       "    <tr style=\"text-align: right;\">\n",
       "      <th></th>\n",
       "      <th>age</th>\n",
       "      <th>sex</th>\n",
       "      <th>cp</th>\n",
       "      <th>trestbps</th>\n",
       "      <th>chol</th>\n",
       "      <th>fbs</th>\n",
       "      <th>restecg</th>\n",
       "      <th>thalach</th>\n",
       "      <th>exang</th>\n",
       "      <th>target</th>\n",
       "    </tr>\n",
       "  </thead>\n",
       "  <tbody>\n",
       "    <tr>\n",
       "      <th>count</th>\n",
       "      <td>25.000000</td>\n",
       "      <td>25.000000</td>\n",
       "      <td>25.000000</td>\n",
       "      <td>25.00000</td>\n",
       "      <td>25.00000</td>\n",
       "      <td>25.000000</td>\n",
       "      <td>25.000000</td>\n",
       "      <td>25.000000</td>\n",
       "      <td>25.000000</td>\n",
       "      <td>25.000000</td>\n",
       "    </tr>\n",
       "    <tr>\n",
       "      <th>mean</th>\n",
       "      <td>54.640000</td>\n",
       "      <td>0.720000</td>\n",
       "      <td>1.360000</td>\n",
       "      <td>134.92000</td>\n",
       "      <td>246.92000</td>\n",
       "      <td>0.200000</td>\n",
       "      <td>0.680000</td>\n",
       "      <td>158.480000</td>\n",
       "      <td>0.200000</td>\n",
       "      <td>0.680000</td>\n",
       "    </tr>\n",
       "    <tr>\n",
       "      <th>std</th>\n",
       "      <td>7.543651</td>\n",
       "      <td>0.458258</td>\n",
       "      <td>1.036018</td>\n",
       "      <td>15.02753</td>\n",
       "      <td>45.69183</td>\n",
       "      <td>0.408248</td>\n",
       "      <td>0.476095</td>\n",
       "      <td>16.386275</td>\n",
       "      <td>0.408248</td>\n",
       "      <td>0.476095</td>\n",
       "    </tr>\n",
       "    <tr>\n",
       "      <th>min</th>\n",
       "      <td>37.000000</td>\n",
       "      <td>0.000000</td>\n",
       "      <td>0.000000</td>\n",
       "      <td>110.00000</td>\n",
       "      <td>168.00000</td>\n",
       "      <td>0.000000</td>\n",
       "      <td>0.000000</td>\n",
       "      <td>108.000000</td>\n",
       "      <td>0.000000</td>\n",
       "      <td>0.000000</td>\n",
       "    </tr>\n",
       "    <tr>\n",
       "      <th>25%</th>\n",
       "      <td>50.000000</td>\n",
       "      <td>0.000000</td>\n",
       "      <td>1.000000</td>\n",
       "      <td>120.00000</td>\n",
       "      <td>207.00000</td>\n",
       "      <td>0.000000</td>\n",
       "      <td>0.000000</td>\n",
       "      <td>150.000000</td>\n",
       "      <td>0.000000</td>\n",
       "      <td>0.000000</td>\n",
       "    </tr>\n",
       "    <tr>\n",
       "      <th>50%</th>\n",
       "      <td>57.000000</td>\n",
       "      <td>1.000000</td>\n",
       "      <td>1.000000</td>\n",
       "      <td>136.00000</td>\n",
       "      <td>254.00000</td>\n",
       "      <td>0.000000</td>\n",
       "      <td>1.000000</td>\n",
       "      <td>160.000000</td>\n",
       "      <td>0.000000</td>\n",
       "      <td>1.000000</td>\n",
       "    </tr>\n",
       "    <tr>\n",
       "      <th>75%</th>\n",
       "      <td>58.000000</td>\n",
       "      <td>1.000000</td>\n",
       "      <td>2.000000</td>\n",
       "      <td>140.00000</td>\n",
       "      <td>275.00000</td>\n",
       "      <td>0.000000</td>\n",
       "      <td>1.000000</td>\n",
       "      <td>172.000000</td>\n",
       "      <td>0.000000</td>\n",
       "      <td>1.000000</td>\n",
       "    </tr>\n",
       "    <tr>\n",
       "      <th>max</th>\n",
       "      <td>67.000000</td>\n",
       "      <td>1.000000</td>\n",
       "      <td>3.000000</td>\n",
       "      <td>172.00000</td>\n",
       "      <td>354.00000</td>\n",
       "      <td>1.000000</td>\n",
       "      <td>1.000000</td>\n",
       "      <td>187.000000</td>\n",
       "      <td>1.000000</td>\n",
       "      <td>1.000000</td>\n",
       "    </tr>\n",
       "  </tbody>\n",
       "</table>\n",
       "</div>"
      ],
      "text/plain": [
       "             age        sex         cp   trestbps       chol        fbs  \\\n",
       "count  25.000000  25.000000  25.000000   25.00000   25.00000  25.000000   \n",
       "mean   54.640000   0.720000   1.360000  134.92000  246.92000   0.200000   \n",
       "std     7.543651   0.458258   1.036018   15.02753   45.69183   0.408248   \n",
       "min    37.000000   0.000000   0.000000  110.00000  168.00000   0.000000   \n",
       "25%    50.000000   0.000000   1.000000  120.00000  207.00000   0.000000   \n",
       "50%    57.000000   1.000000   1.000000  136.00000  254.00000   0.000000   \n",
       "75%    58.000000   1.000000   2.000000  140.00000  275.00000   0.000000   \n",
       "max    67.000000   1.000000   3.000000  172.00000  354.00000   1.000000   \n",
       "\n",
       "         restecg     thalach      exang     target  \n",
       "count  25.000000   25.000000  25.000000  25.000000  \n",
       "mean    0.680000  158.480000   0.200000   0.680000  \n",
       "std     0.476095   16.386275   0.408248   0.476095  \n",
       "min     0.000000  108.000000   0.000000   0.000000  \n",
       "25%     0.000000  150.000000   0.000000   0.000000  \n",
       "50%     1.000000  160.000000   0.000000   1.000000  \n",
       "75%     1.000000  172.000000   0.000000   1.000000  \n",
       "max     1.000000  187.000000   1.000000   1.000000  "
      ]
     },
     "execution_count": 5,
     "metadata": {},
     "output_type": "execute_result"
    }
   ],
   "source": [
    "df.describe()"
   ]
  },
  {
   "cell_type": "markdown",
   "id": "7bb680e6-e477-4d38-8733-7ff6e0b7e340",
   "metadata": {},
   "source": [
    "## Plotting target distribution (Pie Chart using Matplotlib)"
   ]
  },
  {
   "cell_type": "code",
   "execution_count": 11,
   "id": "c750bbc8-6244-4654-b1e3-35f143eda9ff",
   "metadata": {},
   "outputs": [
    {
     "data": {
      "image/png": "[encoded data removed]",
      "text/plain": [
       "<Figure size 500x500 with 1 Axes>"
      ]
     },
     "metadata": {},
     "output_type": "display_data"
    }
   ],
   "source": [
    "# Count of target values\n",
    "target_counts = df['target'].value_counts()\n",
    "\n",
    "# Plot pie chart\n",
    "plt.figure(figsize=(5, 5))\n",
    "plt.pie(target_counts, labels=target_counts.index, autopct='%1.1f%%', startangle=90, colors=['lightgreen', 'salmon'])\n",
    "plt.title('Distribution of Heart Disease (Target)')\n",
    "plt.axis('equal') \n",
    "plt.show()"
   ]
  },
  {
   "cell_type": "markdown",
   "id": "b94d53b3-fdc9-4fdc-9d1e-34b22f2476d6",
   "metadata": {},
   "source": [
    "## Correlation Matrix (Short Matplotlib Version)"
   ]
  },
  {
   "cell_type": "code",
   "execution_count": 12,
   "id": "c3c41e6d-d63d-4cee-971c-3e29035f3f19",
   "metadata": {},
   "outputs": [
    {
     "data": {
      "image/png": "[encoded data removed]",
      "text/plain": [
       "<Figure size 800x600 with 2 Axes>"
      ]
     },
     "metadata": {},
     "output_type": "display_data"
    }
   ],
   "source": [
    "# Correlation matrix plot\n",
    "plt.figure(figsize=(8, 6))\n",
    "plt.imshow(df.corr(numeric_only=True), cmap='coolwarm')\n",
    "plt.title('Correlation Matrix')\n",
    "plt.colorbar()\n",
    "plt.show()"
   ]
  },
  {
   "cell_type": "markdown",
   "id": "5230254b-2362-4315-8503-18103c04cee0",
   "metadata": {},
   "source": [
    "## Splitting data"
   ]
  },
  {
   "cell_type": "code",
   "execution_count": 13,
   "id": "f6e3cc9a-d855-4ade-80f8-755c46f869f0",
   "metadata": {},
   "outputs": [],
   "source": [
    "df = df.sample(frac=1).reset_index(drop=True)\n",
    "# Convert features and labels\n",
    "X = df.drop('target', axis=1).values\n",
    "y = df['target'].values\n",
    "\n",
    "# 80% training, 20% testing\n",
    "split = int(0.8 * len(X))\n",
    "X_train, X_test = X[:split], X[split:]\n",
    "y_train, y_test = y[:split], y[split:]"
   ]
  },
  {
   "cell_type": "markdown",
   "id": "c3a30d43-3d15-42d9-9867-36ed34b27151",
   "metadata": {},
   "source": [
    "## Simple Model using Logistic Regression (manual using NumPy logic)"
   ]
  },
  {
   "cell_type": "code",
   "execution_count": 14,
   "id": "def98e04-7bd1-4b91-a487-f2083597bf46",
   "metadata": {},
   "outputs": [
    {
     "name": "stdout",
     "output_type": "stream",
     "text": [
      "Accuracy (basic logic model): 40.00%\n"
     ]
    }
   ],
   "source": [
    "y_pred = []\n",
    "for row in X_test:\n",
    "    chol = row[3] # cholesterol column\n",
    "    thalach = row[7] # max heart rate column\n",
    "    if chol < 240 and thalach > 140:\n",
    "        y_pred.append(0)\n",
    "    else:\n",
    "        y_pred.append(1)\n",
    "# Accuracy\n",
    "correct = sum(y_pred[i] == y_test[i] for i in range(len(y_test)))\n",
    "accuracy = correct / len(y_test) * 100\n",
    "print(f\"Accuracy (basic logic model): {accuracy:.2f}%\")"
   ]
  },
  {
   "cell_type": "code",
   "execution_count": null,
   "id": "f9f2f2c9-5433-4e52-8471-69a977ea627c",
   "metadata": {},
   "outputs": [],
   "source": []
  }
 ],
 "metadata": {
  "kernelspec": {
   "display_name": "Python 3 (ipykernel)",
   "language": "python",
   "name": "python3"
  },
  "language_info": {
   "codemirror_mode": {
    "name": "ipython",
    "version": 3
   },
   "file_extension": ".py",
   "mimetype": "text/x-python",
   "name": "python",
   "nbconvert_exporter": "python",
   "pygments_lexer": "ipython3",
   "version": "3.9.2"
  }
 },
 "nbformat": 4,
 "nbformat_minor": 5
}
